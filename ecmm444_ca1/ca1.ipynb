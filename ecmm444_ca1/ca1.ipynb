{
 "cells": [
  {
   "cell_type": "markdown",
   "metadata": {
    "deletable": false,
    "editable": false,
    "nbgrader": {
     "cell_type": "markdown",
     "checksum": "21fd11bb52d8dbc4c5810677d1054d5d",
     "grade": false,
     "grade_id": "cell-8214d6d68e14be06",
     "locked": true,
     "schema_version": 3,
     "solution": false,
     "task": false
    }
   },
   "source": [
    "# ECMM444 Fundamentals of Data Science\n",
    "## Course Assessment 1\n",
    "\n",
    "\n",
    "This course assessment (CA1) represents 40% of the overall module assessment.\n",
    "\n",
    "**Submission deadline:** 22 November 2021, 12noon\n",
    "\n",
    "**Aim:** Show competence in using the `pandas` and `numpy`libraries.\n",
    "\n",
    "This is an **individual exercise** and your attention is drawn to the College and University guidelines on collaboration and plagiarism, which are available from the College website.\n",
    "\n",
    "\n",
    "**Notes on how to use the notebook:**\n",
    "\n",
    "1. do not change the name of this notebook, i.e. the notebook file has to be: `ca1.ipynb`\n",
    "2. do not add you name or student code in the notebook or in the file name (it must be an anonymous submission)\n",
    "3. do not remove or delete or add any cell in this notebook: you should work on a separate, private notebook and only when you are finished debugging then copy the function implementations in the cells of this notebook. Make sure to copy **only** the function implementation and nothing else.\n",
    "4. remove the `raise NotImplementedError()` under the `# YOUR CODE HERE` and replace it with **your code**: note that if you leave this command in the cell you will fail the associated test\n",
    "\n",
    "**Submission:**\n",
    "\n",
    "- to access this notebook you have downloaded the archive ecmm444_ca1.zip, and unziped it to a folder ecmm444_ca1\n",
    "- the folder ecmm444_ca1 contains some images (.png), a notebook (.ipynb) and some other files for the datasets\n",
    "- to submit your completed Jupyter notebook, save it in the folder ecmm444_ca1 without changing the file name, i.e. the notebook has to have the file name ca1.ipynb\n",
    "- create a .zip archive (not any other compression format, only .zip) of the folder ecmm444_ca1 with your updated notebook \n",
    "- submit a single file, the zipped archive, using the EBART submission system \n",
    "\n",
    "\n",
    "**Evaluation criteria:**\n",
    "\n",
    "Each question asks for one or more functions to be implemented. \n",
    "\n",
    "- Each function is awarded a number of marks. \n",
    "- A hidden unit test is going to evaluate if all desired properties of the required function are met. \n",
    "- If the function passes the test all the associated marks are awarded, if it fails 0 marks are awarded.\n",
    "- If you make a typo error (e.g. mispelling a variable) this will likely causes a syntax error, the function execution will fail and you will be awarded 0 marks.\n",
    "- Do not make assumptions on the state of previous cells, i.e. expect each function to be evaluated independently, moreover expect each function to be tested in the unit tests on some *randomly* generated input.\n",
    "\n",
    "Although the test use a hard fail/pass strategy to assign marks, the large number of questions allows a fine grading.\n",
    "\n",
    "**Notes:**\n",
    "\n",
    "Students are expected to do some autonomous readings and research to familiarise themselves with the topics of the exercises.\n",
    "\n",
    "When a required function can be implemented directly by a library function it is intended that the candidate should write her own implementation of the function.\n",
    "\n",
    "Do not assume that the implementations provided in the Workshops exercises contain no mistakes. You should write and are ultimately responsible for the code that you submit in this assessment."
   ]
  },
  {
   "cell_type": "code",
   "execution_count": 2,
   "metadata": {
    "deletable": false,
    "editable": false,
    "nbgrader": {
     "cell_type": "code",
     "checksum": "c02161f0c73428f54b21abda03e7b49b",
     "grade": false,
     "grade_id": "cell-78a10a2e7ccdb3a4",
     "locked": true,
     "schema_version": 3,
     "solution": false,
     "task": false
    }
   },
   "outputs": [],
   "source": [
    "%matplotlib inline\n",
    "import matplotlib.pyplot as plt\n",
    "import numpy as np\n",
    "import scipy as sp\n",
    "import pandas as pd\n",
    "\n",
    "# the following is used in unit testing, please ignore \n",
    "import sys\n",
    "sys.path.insert(0,'..\\\\..\\\\')"
   ]
  },
  {
   "cell_type": "markdown",
   "metadata": {
    "deletable": false,
    "editable": false,
    "nbgrader": {
     "cell_type": "markdown",
     "checksum": "3b24837a7f0413406889167ed51fc182",
     "grade": false,
     "grade_id": "cell-8ea579ea1f2f245d",
     "locked": true,
     "schema_version": 3,
     "solution": false,
     "task": false
    }
   },
   "source": [
    "# Part 1\n",
    "\n",
    "**Aim:** Show competence in using the `pandas` library. \n",
    "\n",
    "In this exercise you will use the pandas library to create functions to help processing a dataset and extract some insight in the data.  "
   ]
  },
  {
   "cell_type": "markdown",
   "metadata": {
    "deletable": false,
    "editable": false,
    "nbgrader": {
     "cell_type": "markdown",
     "checksum": "f1e4da43c6f1d3ad55cb32ff0fcb59cd",
     "grade": false,
     "grade_id": "cell-c816a3d772c8db2a",
     "locked": true,
     "schema_version": 3,
     "solution": false,
     "task": false
    }
   },
   "source": [
    "## Question 1.1  [marks 4]\n",
    "\n",
    "\n",
    "Make a function `df = load_data()` to load data from the csv file `Absenteeism_at_work.csv` that you find in the same folder as this notebook and output a corresponding pandas DataFrame object.\n",
    "\n",
    "You can find full details about the dataset in the file `UCI_ABS_TEXT.docx` (also located in the same folder)."
   ]
  },
  {
   "cell_type": "code",
   "execution_count": 3,
   "metadata": {
    "deletable": false,
    "nbgrader": {
     "cell_type": "code",
     "checksum": "27ae29e6d82d0a423e7f4afa1942067b",
     "grade": false,
     "grade_id": "cell-9df88fa864cc67a1",
     "locked": false,
     "schema_version": 3,
     "solution": true,
     "task": false
    }
   },
   "outputs": [],
   "source": [
    "def load_data():\n",
    "    file = open('Absenteeism_at_work.csv', 'r')\n",
    "    lines = file.readlines()\n",
    "    data1 = []\n",
    "    for line, i in zip(lines, range(len(lines))):\n",
    "        data1.append((line.strip(\"\\n\")).split(';')) \n",
    "\n",
    "    df = pd.DataFrame(data1[1:], columns= data1[0] )\n",
    "    df = df.apply(pd.to_numeric, errors='ignore')\n",
    "    return df"
   ]
  },
  {
   "cell_type": "code",
   "execution_count": 4,
   "metadata": {
    "deletable": false,
    "editable": false,
    "nbgrader": {
     "cell_type": "code",
     "checksum": "e487389b314073e4dd95216de1ce44fd",
     "grade": true,
     "grade_id": "cell-de87540cebe73dac",
     "locked": true,
     "points": 4,
     "schema_version": 3,
     "solution": false,
     "task": false
    }
   },
   "outputs": [],
   "source": [
    "# This cell is reserved for the unit tests. Do not consider this cell. "
   ]
  },
  {
   "cell_type": "markdown",
   "metadata": {
    "deletable": false,
    "editable": false,
    "nbgrader": {
     "cell_type": "markdown",
     "checksum": "9b3d604d33611d2f754d5209fb22f126",
     "grade": false,
     "grade_id": "cell-a4575715a93f2f38",
     "locked": true,
     "schema_version": 3,
     "solution": false,
     "task": false
    }
   },
   "source": [
    "## Checkpoint\n",
    "\n",
    "This is just a check-point, i.e. it is for you to see that you are correctly implementing all functions.\n",
    "\n",
    "Execute the following code (just execute the next cell):\n",
    "```\n",
    "df = load_data()\n",
    "print(df.info())\n",
    "```\n",
    "you should get:\n",
    "```\n",
    "<class 'pandas.core.frame.DataFrame'>\n",
    "RangeIndex: 740 entries, 0 to 739\n",
    "Data columns (total 21 columns):\n",
    " #   Column                           Non-Null Count  Dtype  \n",
    "---  ------                           --------------  -----  \n",
    " 0   ID                               740 non-null    int64  \n",
    " 1   Reason for absence               740 non-null    int64  \n",
    " 2   Month of absence                 740 non-null    int64  \n",
    " 3   Day of the week                  740 non-null    int64  \n",
    " 4   Seasons                          740 non-null    int64  \n",
    " 5   Transportation expense           740 non-null    int64  \n",
    " 6   Distance from Residence to Work  740 non-null    int64  \n",
    " 7   Service time                     740 non-null    int64  \n",
    " 8   Age                              740 non-null    int64  \n",
    " 9   Work load Average/day            740 non-null    float64\n",
    " 10  Hit target                       740 non-null    int64  \n",
    " 11  Disciplinary failure             740 non-null    int64  \n",
    " 12  Education                        740 non-null    int64  \n",
    " 13  Son                              740 non-null    int64  \n",
    " 14  Social drinker                   740 non-null    int64  \n",
    " 15  Social smoker                    740 non-null    int64  \n",
    " 16  Pet                              740 non-null    int64  \n",
    " 17  Weight                           740 non-null    int64  \n",
    " 18  Height                           740 non-null    int64  \n",
    " 19  Body mass index                  740 non-null    int64  \n",
    " 20  Absenteeism time in hours        740 non-null    int64  \n",
    "dtypes: float64(1), int64(20)\n",
    "memory usage: 121.5 KB\n",
    "None\n",
    "```"
   ]
  },
  {
   "cell_type": "code",
   "execution_count": 5,
   "metadata": {
    "deletable": false,
    "editable": false,
    "nbgrader": {
     "cell_type": "code",
     "checksum": "3abd9456c22eed2fa2f60b831a0200ff",
     "grade": false,
     "grade_id": "cell-a8b3cad60bf8298c",
     "locked": true,
     "schema_version": 3,
     "solution": false,
     "task": false
    }
   },
   "outputs": [
    {
     "name": "stdout",
     "output_type": "stream",
     "text": [
      "<class 'pandas.core.frame.DataFrame'>\n",
      "RangeIndex: 740 entries, 0 to 739\n",
      "Data columns (total 21 columns):\n",
      " #   Column                           Non-Null Count  Dtype  \n",
      "---  ------                           --------------  -----  \n",
      " 0   ID                               740 non-null    int64  \n",
      " 1   Reason for absence               740 non-null    int64  \n",
      " 2   Month of absence                 740 non-null    int64  \n",
      " 3   Day of the week                  740 non-null    int64  \n",
      " 4   Seasons                          740 non-null    int64  \n",
      " 5   Transportation expense           740 non-null    int64  \n",
      " 6   Distance from Residence to Work  740 non-null    int64  \n",
      " 7   Service time                     740 non-null    int64  \n",
      " 8   Age                              740 non-null    int64  \n",
      " 9   Work load Average/day            740 non-null    float64\n",
      " 10  Hit target                       740 non-null    int64  \n",
      " 11  Disciplinary failure             740 non-null    int64  \n",
      " 12  Education                        740 non-null    int64  \n",
      " 13  Son                              740 non-null    int64  \n",
      " 14  Social drinker                   740 non-null    int64  \n",
      " 15  Social smoker                    740 non-null    int64  \n",
      " 16  Pet                              740 non-null    int64  \n",
      " 17  Weight                           740 non-null    int64  \n",
      " 18  Height                           740 non-null    int64  \n",
      " 19  Body mass index                  740 non-null    int64  \n",
      " 20  Absenteeism time in hours        740 non-null    int64  \n",
      "dtypes: float64(1), int64(20)\n",
      "memory usage: 121.5 KB\n",
      "None\n"
     ]
    }
   ],
   "source": [
    "# Just run the following code, do not modify it\n",
    "\n",
    "df = load_data()\n",
    "print(df.info())"
   ]
  },
  {
   "cell_type": "markdown",
   "metadata": {
    "deletable": false,
    "editable": false,
    "nbgrader": {
     "cell_type": "markdown",
     "checksum": "05418f0c48ee0650b28c0f916ade265f",
     "grade": false,
     "grade_id": "cell-90c08b28c45e0668",
     "locked": true,
     "schema_version": 3,
     "solution": false,
     "task": false
    }
   },
   "source": [
    "## Question 1.2  [marks 4]\n",
    "\n",
    "The column 'Reason for absence' contains a digit code for the reason for absence. We will want to add a human readable version of this information. The text correponding to each reasons for absence is available in the file `conditions.txt`.\n",
    "\n",
    "Make a function `s_conditions = load_conditions()` that reads the information in `conditions.txt` and ouptuts a corresponding pandas Series object whose index correpsponds to the digital code in the column 'Reason for absence'.  "
   ]
  },
  {
   "cell_type": "code",
   "execution_count": 6,
   "metadata": {
    "deletable": false,
    "nbgrader": {
     "cell_type": "code",
     "checksum": "f3218aaa65200ee7191f4f76f7f04c4c",
     "grade": false,
     "grade_id": "cell-f3cd9059975af61c",
     "locked": false,
     "schema_version": 3,
     "solution": true,
     "task": false
    }
   },
   "outputs": [],
   "source": [
    "def load_conditions():\n",
    "    file = open('conditions.txt', 'r')\n",
    "    lines = (line.strip(\"\\n\") for line in file.readlines())\n",
    "    return pd.Series(lines)"
   ]
  },
  {
   "cell_type": "code",
   "execution_count": 7,
   "metadata": {
    "deletable": false,
    "editable": false,
    "nbgrader": {
     "cell_type": "code",
     "checksum": "64ea4a92a993a661ce3d5325232e031c",
     "grade": true,
     "grade_id": "cell-0ca301801f993daf",
     "locked": true,
     "points": 4,
     "schema_version": 3,
     "solution": false,
     "task": false
    }
   },
   "outputs": [],
   "source": [
    "# This cell is reserved for the unit tests. Do not consider this cell. "
   ]
  },
  {
   "cell_type": "markdown",
   "metadata": {
    "deletable": false,
    "editable": false,
    "nbgrader": {
     "cell_type": "markdown",
     "checksum": "14f9a0133500bfa4ccd5e8b3166efa10",
     "grade": false,
     "grade_id": "cell-780de8eafb21015a",
     "locked": true,
     "schema_version": 3,
     "solution": false,
     "task": false
    }
   },
   "source": [
    "\n",
    "## Question 1.3  [marks 6]\n",
    "\n",
    "We now want to map the numerical codes to their textual expressions and insert this information as a novel column in the working DataFrame. \n",
    "\n",
    "Make a function `insert_conditions(df, s_conditions, reference_column, new_column_name, position)` that modifies the input DataFrame `df` in-place (i.e. the function does not return anything). The function takes in input the DataFrame `df`, the Series containing the text information `s_conditions`, the column name that contains the numerical codes `reference_column`, the name of the new column that is going to be added `new_column_name` and the position, indicated in `position`, in which this new column will appear in the DataFrame.\n",
    "\n",
    "A typical usage of this function is:\n",
    "```python\n",
    "df = load_data()\n",
    "s_conditions = load_conditions()\n",
    "insert_conditions(df, s_conditions, reference_column='Reason for absence', new_column_name='Reason', position=0)\n",
    "```"
   ]
  },
  {
   "cell_type": "code",
   "execution_count": 8,
   "metadata": {
    "deletable": false,
    "nbgrader": {
     "cell_type": "code",
     "checksum": "f8b27d4beca3c0bf7dabb53f482f5973",
     "grade": false,
     "grade_id": "cell-3c5df1409a65c3f8",
     "locked": false,
     "schema_version": 3,
     "solution": true,
     "task": false
    }
   },
   "outputs": [],
   "source": [
    "def insert_conditions(df, s_conditions, reference_column, new_column_name, position):\n",
    "    converted = [s_conditions[ref] for ref in df[reference_column]]\n",
    "    df.insert(position, new_column_name, converted)"
   ]
  },
  {
   "cell_type": "code",
   "execution_count": 9,
   "metadata": {
    "deletable": false,
    "editable": false,
    "nbgrader": {
     "cell_type": "code",
     "checksum": "f3f821afff46fc9a171ae528ed4cb28f",
     "grade": true,
     "grade_id": "cell-f882c57bc6376ae1",
     "locked": true,
     "points": 6,
     "schema_version": 3,
     "solution": false,
     "task": false
    }
   },
   "outputs": [],
   "source": [
    "# This cell is reserved for the unit tests. Do not consider this cell. "
   ]
  },
  {
   "cell_type": "markdown",
   "metadata": {
    "deletable": false,
    "editable": false,
    "nbgrader": {
     "cell_type": "markdown",
     "checksum": "2aec7df4a0ee83537642ccd71c4f9f61",
     "grade": false,
     "grade_id": "cell-d87929584e74a50a",
     "locked": true,
     "schema_version": 3,
     "solution": false,
     "task": false
    }
   },
   "source": [
    "## Checkpoint\n",
    "\n",
    "This is just a check-point, i.e. it is for you to see that you are correctly implementing all functions.\n",
    "\n",
    "Execute the following code (just execute the next cell):\n",
    "```\n",
    "df = load_data()\n",
    "s_conditions = load_conditions()\n",
    "insert_conditions(df, s_conditions, reference_column='Reason for absence', new_column_name='Reason', position=0)\n",
    "print(df.iloc[:5][['Reason','ID', 'Reason for absence', 'Month of absence']].to_string())\n",
    "```\n",
    "you should get:\n",
    "```\n",
    "                 Reason  ID  Reason for absence  Month of absence\n",
    "0   Unjustified absence  11                  26                 7\n",
    "1            Not absent  36                   0                 7\n",
    "2  Medical consultation   3                  23                 7\n",
    "3   Diseases of the eye   7                   7                 7\n",
    "4  Medical consultation  11                  23                 7\n",
    "```"
   ]
  },
  {
   "cell_type": "code",
   "execution_count": 10,
   "metadata": {
    "deletable": false,
    "editable": false,
    "nbgrader": {
     "cell_type": "code",
     "checksum": "afb5de316a1792b1b2fc5f7f9192bcd2",
     "grade": false,
     "grade_id": "cell-47cb968a66c8319d",
     "locked": true,
     "schema_version": 3,
     "solution": false,
     "task": false
    }
   },
   "outputs": [
    {
     "name": "stdout",
     "output_type": "stream",
     "text": [
      "                 Reason  ID  Reason for absence  Month of absence\n",
      "0   Unjustified absence  11                  26                 7\n",
      "1            Not absent  36                   0                 7\n",
      "2  Medical consultation   3                  23                 7\n",
      "3   Diseases of the eye   7                   7                 7\n",
      "4  Medical consultation  11                  23                 7\n"
     ]
    }
   ],
   "source": [
    "# Just run the following code, do not modify it\n",
    "\n",
    "df = load_data()\n",
    "s_conditions = load_conditions()\n",
    "insert_conditions(df, s_conditions, reference_column='Reason for absence', new_column_name='Reason', position=0)\n",
    "print(df.iloc[:5][['Reason','ID', 'Reason for absence', 'Month of absence']].to_string())"
   ]
  },
  {
   "cell_type": "markdown",
   "metadata": {
    "deletable": false,
    "editable": false,
    "nbgrader": {
     "cell_type": "markdown",
     "checksum": "cff473ff9fdc785355e035bee4fa8032",
     "grade": false,
     "grade_id": "cell-4f296ed28b574ee3",
     "locked": true,
     "schema_version": 3,
     "solution": false,
     "task": false
    }
   },
   "source": [
    "\n",
    "## Question 1.4  [marks 8]\n",
    "\n",
    "Some reasons for absence are associated to very few cases. Since we want to perform some statistical analysis on this data, we are going to remove the instances that correspond to those scarcely populated reasons. In addition, we might not be interested in some columns (e.g. the month of absence, the employee ID, etc), so we also want to limit our working DataFrame to a user specified list of columns. \n",
    "\n",
    "Make a function `df = remove(df, selected_col, n_min, col_list)` that takes in input a DataFrame `df`, a column name `selected_col` (in our case this will be 'Reason for absence'), a value `n_min` to indicate the minumum number of instances that need to be present and finally a list of column names `col_list`. \n",
    "The function returns a novel DataFrame based on `df` that contains only the columns indicated in `col_list` and that contains only instances (rows) that correspond to sufficiently populated reasons for absence, that is, if there are only 6 instances associated to the reason 'Diseases of the ear' and we choose `n_min=10`, then none of those instances will appear in the output DataFrame. "
   ]
  },
  {
   "cell_type": "code",
   "execution_count": 11,
   "metadata": {
    "deletable": false,
    "nbgrader": {
     "cell_type": "code",
     "checksum": "9b3123b0aaf9ae0836f6fdcc5b7a4b55",
     "grade": false,
     "grade_id": "cell-dce7818ff79e5262",
     "locked": false,
     "schema_version": 3,
     "solution": true,
     "task": false
    }
   },
   "outputs": [],
   "source": [
    "def remove(df, selected_col, n_min, col_list):\n",
    "    sameCount = {}\n",
    "    for  val in df[selected_col]:\n",
    "        if val in sameCount:\n",
    "            sameCount[val] +=1\n",
    "        else:\n",
    "            sameCount[val] = 0\n",
    "    indexs = [True if v > n_min else False for v in sameCount.values() ] \n",
    "    valid = []\n",
    "    for k, t in zip(sameCount.keys(),indexs):\n",
    "        if t:\n",
    "            valid.append(k)\n",
    "    \n",
    "    return df[col_list].loc[df[selected_col].isin(valid)] "
   ]
  },
  {
   "cell_type": "code",
   "execution_count": 12,
   "metadata": {
    "deletable": false,
    "editable": false,
    "nbgrader": {
     "cell_type": "code",
     "checksum": "b0ee43e9cc3d6a8278c5acf536396c4d",
     "grade": true,
     "grade_id": "cell-4808fce71d9d44d4",
     "locked": true,
     "points": 8,
     "schema_version": 3,
     "solution": false,
     "task": false
    }
   },
   "outputs": [],
   "source": [
    "# This cell is reserved for the unit tests. Do not consider this cell. "
   ]
  },
  {
   "cell_type": "markdown",
   "metadata": {
    "deletable": false,
    "editable": false,
    "nbgrader": {
     "cell_type": "markdown",
     "checksum": "e3673dfff815d56d414acbd7553889fd",
     "grade": false,
     "grade_id": "cell-1d845ae6efa88ff8",
     "locked": true,
     "schema_version": 3,
     "solution": false,
     "task": false
    }
   },
   "source": [
    "\n",
    "## Question 1.5  [marks 7]\n",
    "\n",
    "In order to gain some insight on the data we want to extract some statistics about the groups of instances (rows) that share the same value for a specificed column. In our case we are interested in the instances that have the same 'Reason for absence'. \n",
    "\n",
    "Make a function `extract_stats(df, sel_col)` that groups the instances according to the values in `sel_col` and then extracts the counts, the mean and the standard deviation for each of those groups. The output should be a DataFrame. \n",
    "\n",
    "If applied to our working DataFrame `df` with `sel_col='Reason'` (assuming you haven't removed any rows) \n",
    "```\n",
    "df2 = extract_stats(df, sel_col='Reason')\n",
    "print(df2.iloc[:5][['ID','Age']].to_string())\n",
    "```\n",
    "you should obtain a DataFrame that starts like so:\n",
    "```\n",
    "                                    ID                         Age                     \n",
    "                                 count       mean        std count       mean       std\n",
    "Reason                                                                                 \n",
    "Blood donation                       3  11.000000   0.000000     3  33.000000  0.000000\n",
    "Conditions from perinatal period     3  19.666667   4.618802     3  37.333333  4.618802\n",
    "Congenital malformations             1  17.000000        NaN     1  40.000000       NaN\n",
    "Dental consultation                112  18.348214  10.762556   112  37.508929  4.873158\n",
    "Diseases of the blood                1  15.000000        NaN     1  40.000000       NaN\n",
    "```"
   ]
  },
  {
   "cell_type": "code",
   "execution_count": 13,
   "metadata": {
    "deletable": false,
    "nbgrader": {
     "cell_type": "code",
     "checksum": "ae2a19fd2acf2775417db71b56b4cab2",
     "grade": false,
     "grade_id": "cell-b2fb7755a2d265f2",
     "locked": false,
     "schema_version": 3,
     "solution": true,
     "task": false
    }
   },
   "outputs": [],
   "source": [
    "def extract_stats(df, sel_col):\n",
    "    def count(iterable):\n",
    "        return len(iterable)\n",
    "\n",
    "    return df.groupby([sel_col]).agg([count,np.mean, np.std])"
   ]
  },
  {
   "cell_type": "code",
   "execution_count": 14,
   "metadata": {
    "deletable": false,
    "editable": false,
    "nbgrader": {
     "cell_type": "code",
     "checksum": "2c1aace07f29f57c5dcd8f9e9ba7f0d6",
     "grade": true,
     "grade_id": "cell-b280e143abb51631",
     "locked": true,
     "points": 7,
     "schema_version": 3,
     "solution": false,
     "task": false
    }
   },
   "outputs": [],
   "source": [
    "# This cell is reserved for the unit tests. Do not consider this cell. "
   ]
  },
  {
   "cell_type": "markdown",
   "metadata": {
    "deletable": false,
    "editable": false,
    "nbgrader": {
     "cell_type": "markdown",
     "checksum": "04a9017f8ee2266fa2a604bfbf0c0614",
     "grade": false,
     "grade_id": "cell-4b408b269a3bb9b7",
     "locked": true,
     "schema_version": 3,
     "solution": false,
     "task": false
    }
   },
   "source": [
    "## Question 1.6  [marks 10]\n",
    "\n",
    "We want to analyse the various groups to see if there are statistical differences. We can visualise some statistical information for various attributes (for example `Age` or `Distance from Residence to Work`, etc) and see if those statistics are different if we group instances by `Reason` of absence. \n",
    "\n",
    "Make a function `plot_stats(df, selected_col, col_list, extract_stats)` to display for each column in `col_list` the statistics computed using the function `extract_stats` that you have made before, when we group data according to the values in `selected_col` (for us `selected_col='Reason'`).\n",
    "For each plot, we want to represent the normal distributions that correspond to the computed means and standard deviation (you can use the function `norm` in [scipy](https://docs.scipy.org/doc/scipy/reference/generated/scipy.stats.norm.html) to plot the function for all desired values).\n",
    "To get a good representation you need to work on a suitable range of values, so you need to compute the interval that ranges from the mean minus 3 standard deviations to the mean plus 3 standard deviations. Because you have multiple normal distributions to represent in a plot, you have to find the smallest value for the start of the range and the largest for the end of the range. Given that values smaller than 0 do not have any correspondance in reality, do limit the start of the range to no lower than 0.  \n",
    "For clarity, do place the legend outside of the plotting area.\n",
    "\n",
    "\n",
    "When running \n",
    "\n",
    "```python\n",
    "df = load_data()\n",
    "s_conditions = load_conditions()\n",
    "insert_conditions(df, s_conditions, reference_column='Reason for absence', new_column_name='Reason', position=0)\n",
    "df2 = remove(df, selected_col='Reason', n_min=10, col_list=['Reason','Age','Distance from Residence to Work','Work load Average/day '])\n",
    "col_list = df2.columns.values[1:]\n",
    "selected_col='Reason'\n",
    "plot_stats(df2, selected_col, col_list, extract_stats)\n",
    "```\n",
    "you should get something like\n",
    "\n",
    "<img src='plot_1.png' width=500>"
   ]
  },
  {
   "cell_type": "code",
   "execution_count": 15,
   "metadata": {
    "deletable": false,
    "nbgrader": {
     "cell_type": "code",
     "checksum": "102a06fcd53dd24614b5277ff40a541d",
     "grade": false,
     "grade_id": "cell-9857e0b50ee5b3cc",
     "locked": false,
     "schema_version": 3,
     "solution": true,
     "task": false
    }
   },
   "outputs": [],
   "source": [
    "from scipy.stats import norm\n",
    "\n",
    "def plot_stats(df, selected_col, col_list, extract_stats):\n",
    "    extractedS = extract_stats(df,selected_col)\n",
    "    \n",
    "    for col in col_list:\n",
    "        \n",
    "        tmp = extractedS[col]\n",
    "        allMeans = tmp[\"mean\"]\n",
    "        allCount = tmp[\"count\"]\n",
    "        allSTD = tmp[\"std\"]\n",
    "        names = tmp.index\n",
    "        plt.title(col)\n",
    "        for mu, n, sigma, name in zip(allMeans, allCount, allSTD, names):\n",
    "            x = np.linspace(mu - 3*sigma, mu + 3*sigma, 100)\n",
    "            plt.plot(x, norm.pdf(x, mu, sigma), label = name)\n",
    "        plt.legend(loc='center left', bbox_to_anchor=(1, 0.5))\n",
    "        plt.figure()\n",
    "    plt.show()\n",
    "\n",
    "    \n"
   ]
  },
  {
   "cell_type": "code",
   "execution_count": 16,
   "metadata": {
    "deletable": false,
    "editable": false,
    "nbgrader": {
     "cell_type": "code",
     "checksum": "bf23bf51eba29a5fa226ed902b1d8fbc",
     "grade": true,
     "grade_id": "cell-7c122d4ab513f5f1",
     "locked": true,
     "points": 10,
     "schema_version": 3,
     "solution": false,
     "task": false
    }
   },
   "outputs": [],
   "source": [
    "# This cell is reserved for the unit tests. Do not consider this cell. "
   ]
  },
  {
   "cell_type": "markdown",
   "metadata": {
    "deletable": false,
    "editable": false,
    "nbgrader": {
     "cell_type": "markdown",
     "checksum": "bdc564759704e25e8599cf385b9416dd",
     "grade": false,
     "grade_id": "cell-7858f6eaa14ccdd8",
     "locked": true,
     "schema_version": 3,
     "solution": false,
     "task": false
    }
   },
   "source": [
    "## Question 1.7  [marks 5]\n",
    "\n",
    "In the rest of the notebook, we will operate directly on data matrices, hence we will need a function to extract the desired NumPy arrays from a working DataFrame. \n",
    "\n",
    "Make a function `select_data(df, selected_col, selected_reason)` to extract the NumPy array corresponding to the instances (rows) in the input DataFrame `df` that in the column `selected_col` have the value indicated in `selected_reason` (for example `select_data(df, selected_col='Reason', selected_reason='Medical consultation')` returns the instances that in `Reason` have the value `Medical consultation`). Make sure to cast the array to have only `float` values.\n"
   ]
  },
  {
   "cell_type": "code",
   "execution_count": 17,
   "metadata": {
    "deletable": false,
    "nbgrader": {
     "cell_type": "code",
     "checksum": "9b920739d35cde595560820a4d32a532",
     "grade": false,
     "grade_id": "cell-26d1c7ca349eddbe",
     "locked": false,
     "schema_version": 3,
     "solution": true,
     "task": false
    }
   },
   "outputs": [],
   "source": [
    "# Extract desired numpy array from a dataframe\n",
    "\n",
    "def select_data(df, selected_col, selected_reason):\n",
    "    \n",
    "    return df[df[selected_col] == selected_reason].values[:,1:].astype(float)"
   ]
  },
  {
   "cell_type": "code",
   "execution_count": 18,
   "metadata": {
    "deletable": false,
    "editable": false,
    "nbgrader": {
     "cell_type": "code",
     "checksum": "e90ba3ab88619c577bd2a08cd7062674",
     "grade": true,
     "grade_id": "cell-bf8e54a21818db8d",
     "locked": true,
     "points": 5,
     "schema_version": 3,
     "solution": false,
     "task": false
    }
   },
   "outputs": [],
   "source": [
    "# This cell is reserved for the unit tests. Do not consider this cell. "
   ]
  },
  {
   "cell_type": "markdown",
   "metadata": {
    "deletable": false,
    "editable": false,
    "nbgrader": {
     "cell_type": "markdown",
     "checksum": "0c8f01413ca201877fab696688028a01",
     "grade": false,
     "grade_id": "cell-07d1e15287e2642f",
     "locked": true,
     "schema_version": 3,
     "solution": false,
     "task": false
    }
   },
   "source": [
    "\n",
    "# Part 2\n",
    "\n",
    "**Aim:** Show competence in using the `numpy` library. \n",
    "\n",
    "We now want to see if it is possible to predict what type of delay a person is likely to do. \n",
    "To simplify the problem we will consider only a binary classification task, i.e. we will choose only two specific reasons for absence. To perform the prediction we will use a simple nearest neighbor classification technique: that is, given some training instances and some test instances, we will predict that the reason of absence by considering for each test instance the closest neighbors among the instances in training and we will use a mojority vote to decide the type of reason (see [here](https://www.tutorialspoint.com/machine_learning_with_python/machine_learning_with_python_knn_algorithm_finding_nearest_neighbors.htm) for a simple tutorial on nearest neighbor classification). \n",
    "\n",
    "To implement the nearest neighbor classifier we will need some auxiliary functions.\n",
    "\n",
    "**Terminology:**\n",
    "\n",
    "We call *rank* the number of indices required to get individual elements of an array. A matrix requires two indices (row, column), and has thus rank 2, a vector requires one index and has rank 1, a scalar does not require any index and has rank 0. The components that make up rank are called *axes* (plural of axis). The dimension is how many elements are in a particular axis. A *shape* is a tuple whose length is the rank and elements are the dimension of each axis.\n",
    "\n",
    "In the rest of the notebook, the term `data matrix` refers to a rank two numpy array where instances are encoded as rows, e.g. a data matrix with 100 rows and 4 columns is to be interpreted as a collection of 100 instances (vectors) each of dimension four.\n",
    "\n",
    "In the rest of the notebook, the term `vector` refers to a rank one numpy array. \n",
    "\n",
    "The functions you are required to write need to take in input and return as output such objects (i.e. not python lists).\n",
    "\n",
    "**Note:** Do not use library functions (e.g. from `scikit`) to implement the k-NN classifier, but rather provide your own implementation."
   ]
  },
  {
   "cell_type": "markdown",
   "metadata": {
    "deletable": false,
    "editable": false,
    "nbgrader": {
     "cell_type": "markdown",
     "checksum": "99866e95997492195fa2cfd458761481",
     "grade": false,
     "grade_id": "cell-dc5c7d89eb9362ad",
     "locked": true,
     "schema_version": 3,
     "solution": false,
     "task": false
    }
   },
   "source": [
    "## Question 2.1 [marks 7]\n",
    "\n",
    "a) Make a function `X_train, y_train, X_test, y_test = make_train_test_split(X1, X2, train_size)` to generate a train/test split given a data matrix `X1` containing instances for one class (say class 0) and `X2` containing instances of the other class (say class 1). Make sure to shuffle instances so that the data matrices in output contain instances from the various classes that are randomly mixed up (but make sure to correctly associate them to their respective target!). Given the shapes `shape(X1)=(r1,c)` and `shape(X2)=(r2,c)` of the input matrices, the output matrices will have shapes `shape(X_train)=(r3,c)` and `shape(X_test)=(r4,c)` with `r1+r2=r3+r4` and `r3=train_size`. The target vectors `y_train`and `y_test` in output will be rank 1 arrays containing values in `{0,1}` indicating the corresponding classes of the instances in `X_train` and `X_test`."
   ]
  },
  {
   "cell_type": "code",
   "execution_count": 19,
   "metadata": {
    "deletable": false,
    "nbgrader": {
     "cell_type": "code",
     "checksum": "5a47ec7567657bfa590b4b9f310423ef",
     "grade": false,
     "grade_id": "cell-408cc466dbc0a11a",
     "locked": false,
     "schema_version": 3,
     "solution": true,
     "task": false
    }
   },
   "outputs": [],
   "source": [
    "def make_train_test_split(X1, X2, train_size):\n",
    "    import random\n",
    "    X_train = [] \n",
    "    y_train = []\n",
    "    X_test = []\n",
    "    y_test = []\n",
    "    while len(X_train) < train_size:\n",
    "        if random.random() < 0.5:\n",
    "            X_train.append(np.delete(X1,random.randrange(len(X1))))\n",
    "            y_train.append(0)\n",
    "        else:    \n",
    "            X_train.append(np.delete(X2,random.randrange(len(X2))))\n",
    "            y_train.append(1)\n",
    "\n",
    "\n",
    "    for i in range(len(X1)+ len(X2)):\n",
    "        if random.random() < 0.5:\n",
    "            if len(X1) > 0:\n",
    "                X_test.append(np.delete(X1,random.randrange(len(X1))))\n",
    "                y_test.append(0)\n",
    "            else:\n",
    "                X_test.append(np.delete(X2,random.randrange(len(X2))))\n",
    "                y_test.append(1)  \n",
    "        else:    \n",
    "            if len(X2) > 0:\n",
    "                X_test.append(np.delete(X2,random.randrange(len(X2))))\n",
    "                y_test.append(1) \n",
    "            else:\n",
    "                X_test.append(np.delete(X1,random.randrange(len(X1))))\n",
    "                y_test.append(0)\n",
    "\n",
    "    return X_train, y_train, X_test, y_test \n",
    "\n"
   ]
  },
  {
   "cell_type": "code",
   "execution_count": 20,
   "metadata": {
    "deletable": false,
    "editable": false,
    "nbgrader": {
     "cell_type": "code",
     "checksum": "c4b9a5559d3600c25490a5206130ace9",
     "grade": true,
     "grade_id": "cell-9caa6d22a6b6b956",
     "locked": true,
     "points": 7,
     "schema_version": 3,
     "solution": false,
     "task": false
    }
   },
   "outputs": [],
   "source": [
    "# This cell is reserved for the unit tests. Do not consider this cell. "
   ]
  },
  {
   "cell_type": "markdown",
   "metadata": {
    "deletable": false,
    "editable": false,
    "nbgrader": {
     "cell_type": "markdown",
     "checksum": "c6b66b94360452aa4916dac04585afbe",
     "grade": false,
     "grade_id": "cell-995ec0c871cc8952",
     "locked": true,
     "schema_version": 3,
     "solution": false,
     "task": false
    }
   },
   "source": [
    "## Question 2.2 [marks 6]\n",
    "\n",
    "b) Make a function `baseline_acc(targets)` to compute the accuracy (i.e., frquency of correct prediction) of a 'dumb' classifier that given the true targets (i.e., the target classes on the test set) in input in the vector `targets` predicts the class of any test instance purely at random (giving the same probability to any possible output class).\n"
   ]
  },
  {
   "cell_type": "code",
   "execution_count": 21,
   "metadata": {
    "deletable": false,
    "nbgrader": {
     "cell_type": "code",
     "checksum": "9be9236dbaf00af62b7b7185965b4dfb",
     "grade": false,
     "grade_id": "cell-439ca668398041e0",
     "locked": false,
     "schema_version": 3,
     "solution": true,
     "task": false
    }
   },
   "outputs": [],
   "source": [
    "def baseline_acc(targets):\n",
    "    import random\n",
    "    dumbClassifications = []\n",
    "    classNum = len(set(targets))\n",
    "    for i in range(len(targets)):\n",
    "        dumbClassifications.append(random.randint(0,classNum-1))\n",
    "\n",
    "    score = 0\n",
    "    for d, t in zip(dumbClassifications, targets):\n",
    "        if d == t:\n",
    "            score += 1\n",
    "    return score / len(targets)"
   ]
  },
  {
   "cell_type": "code",
   "execution_count": 22,
   "metadata": {
    "deletable": false,
    "editable": false,
    "nbgrader": {
     "cell_type": "code",
     "checksum": "ea777cfcdb8c65caf0dddbf01f0d5a7d",
     "grade": true,
     "grade_id": "cell-027ff0f6684a0e6f",
     "locked": true,
     "points": 6,
     "schema_version": 3,
     "solution": false,
     "task": false
    }
   },
   "outputs": [],
   "source": [
    "# This cell is reserved for the unit tests. Do not consider this cell. "
   ]
  },
  {
   "cell_type": "markdown",
   "metadata": {
    "deletable": false,
    "editable": false,
    "nbgrader": {
     "cell_type": "markdown",
     "checksum": "8a12b003417603795761fca892c5aad1",
     "grade": false,
     "grade_id": "cell-f310afc316bc83a0",
     "locked": true,
     "schema_version": 3,
     "solution": false,
     "task": false
    }
   },
   "source": [
    "## Question 2.3 [marks 6]\n",
    "\n",
    "c) Make a function `D = distance(x1, x2)` to compute the Euclidean distance between two input rank 1 vectors. \n"
   ]
  },
  {
   "cell_type": "code",
   "execution_count": 23,
   "metadata": {
    "deletable": false,
    "nbgrader": {
     "cell_type": "code",
     "checksum": "74eb1ea262a83bec764065c45be3098d",
     "grade": false,
     "grade_id": "cell-cfb40bf68e19b314",
     "locked": false,
     "schema_version": 3,
     "solution": true,
     "task": false
    }
   },
   "outputs": [],
   "source": [
    "def distance(x1, x2):\n",
    "    score = 0\n",
    "    for i,j in zip(x1, x2):\n",
    "        score += (i-j)**2\n",
    "    return score**(1/2)"
   ]
  },
  {
   "cell_type": "code",
   "execution_count": 24,
   "metadata": {
    "deletable": false,
    "editable": false,
    "nbgrader": {
     "cell_type": "code",
     "checksum": "6ee6caa888c940fd739ecf9ee943446a",
     "grade": true,
     "grade_id": "cell-6f4ae4cd203776d6",
     "locked": true,
     "points": 6,
     "schema_version": 3,
     "solution": false,
     "task": false
    }
   },
   "outputs": [],
   "source": [
    "# This cell is reserved for the unit tests. Do not consider this cell. "
   ]
  },
  {
   "cell_type": "markdown",
   "metadata": {
    "deletable": false,
    "editable": false,
    "nbgrader": {
     "cell_type": "markdown",
     "checksum": "401fa19ac15a2b14f7a45246bf6bbfa6",
     "grade": false,
     "grade_id": "cell-5e495545ec3166af",
     "locked": true,
     "schema_version": 3,
     "solution": false,
     "task": false
    }
   },
   "source": [
    "## Question 2.4 [marks 7]\n",
    "\n",
    "d) Make a function `pairwise_distances(X1, X2)` to compute the Euclidean distance between every row vector in the rank 2 array `X1` and every row vector in the rank 2 array `X2`. Given the input shapes `shape(X1)=(r1,c)` and `shape(X2)=(r2,c)` the output is a rank 2 distance matrix with shape `shape(D)=(r1,r2)`."
   ]
  },
  {
   "cell_type": "code",
   "execution_count": 25,
   "metadata": {
    "deletable": false,
    "nbgrader": {
     "cell_type": "code",
     "checksum": "c5cfa3523c974b579f0839ca4aa2248b",
     "grade": false,
     "grade_id": "cell-3a08c67755e7a4f0",
     "locked": false,
     "schema_version": 3,
     "solution": true,
     "task": false
    }
   },
   "outputs": [],
   "source": [
    "def pairwise_distances(X_ref, X):\n",
    "    X_ref = np.array(X_ref, dtype=object)\n",
    "    X = np.array(X, dtype=object)\n",
    "    output = []\n",
    "    for xr in X_ref:\n",
    "        for x in X:\n",
    "            output.append(distance(xr,x))\n",
    "    return np.reshape(output, ((X_ref.shape)[0],(X.shape)[0]))\n",
    "\n"
   ]
  },
  {
   "cell_type": "code",
   "execution_count": 26,
   "metadata": {
    "deletable": false,
    "editable": false,
    "nbgrader": {
     "cell_type": "code",
     "checksum": "85e39e2121f36cbf1128ccb417fe35a8",
     "grade": true,
     "grade_id": "cell-14a5499e719cfa99",
     "locked": true,
     "points": 7,
     "schema_version": 3,
     "solution": false,
     "task": false
    }
   },
   "outputs": [],
   "source": [
    "# This cell is reserved for the unit tests. Do not consider this cell. "
   ]
  },
  {
   "cell_type": "markdown",
   "metadata": {
    "deletable": false,
    "editable": false,
    "nbgrader": {
     "cell_type": "markdown",
     "checksum": "924f6076463f044465be9fc6b91f5e21",
     "grade": false,
     "grade_id": "cell-cfb6dfb9717fc4a0",
     "locked": true,
     "schema_version": 3,
     "solution": false,
     "task": false
    }
   },
   "source": [
    "## Question 2.5 [marks 7]\n",
    "\n",
    "e) Make a function `knn_predictive_performance(X_train, y_train, X_test, y_test, k, pairwise_distances_func)` of the accuracy (frequency of correctly classified instances on the test set) of a k-nearest neighbour classifier (with number of neighbors indicated by the parameter `k`) that is trained with `X_train, y_train` and that is tested on `X_test, y_test` and that uses a function specified in `pairwise_distances_func` to compute the Euclidean distance between vectors. "
   ]
  },
  {
   "cell_type": "code",
   "execution_count": 36,
   "metadata": {
    "deletable": false,
    "nbgrader": {
     "cell_type": "code",
     "checksum": "3accf22183065338543965654c05f812",
     "grade": false,
     "grade_id": "cell-17e145e253f5824f",
     "locked": false,
     "schema_version": 3,
     "solution": true,
     "task": false
    }
   },
   "outputs": [],
   "source": [
    "def knn_predictive_performance(X_train, y_train, X_test, y_test, k, pairwise_distances_func):\n",
    "    paired = pairwise_distances_func(X_test, X_train)\n",
    "    outcomes = []\n",
    "    for i in range(len(X_test)):\n",
    "        kNeighbours = []\n",
    "        allNeighbours = paired[i]\n",
    "        for ne, y in zip(allNeighbours, y_train):\n",
    "            if len(kNeighbours) < k:\n",
    "                kNeighbours.append([ne,y])\n",
    "            else:\n",
    "                for kN, i2 in zip(kNeighbours,range(k)):\n",
    "                    if kN[0] > ne:\n",
    "                        kNeighbours[i2] = [ne,y]\n",
    "                        break\n",
    "        kSum = sum(np.array(kNeighbours)[:,1])\n",
    "        kSum /= k\n",
    "        if kSum > 0.5:\n",
    "            outcomes.append(1)\n",
    "        else:\n",
    "            outcomes.append(0)\n",
    "    score = 0\n",
    "    for d, t in zip(y_test, outcomes):\n",
    "        if d == t:\n",
    "            score += 1\n",
    "    \n",
    "    return score / len(outcomes)\n",
    "    "
   ]
  },
  {
   "cell_type": "code",
   "execution_count": 28,
   "metadata": {
    "deletable": false,
    "editable": false,
    "nbgrader": {
     "cell_type": "code",
     "checksum": "fe27ab8e97d6f040cd749461d9f91cdd",
     "grade": true,
     "grade_id": "cell-dba0b86b87e73db4",
     "locked": true,
     "points": 7,
     "schema_version": 3,
     "solution": false,
     "task": false
    }
   },
   "outputs": [],
   "source": [
    "# This cell is reserved for the unit tests. Do not consider this cell. "
   ]
  },
  {
   "cell_type": "markdown",
   "metadata": {
    "deletable": false,
    "editable": false,
    "nbgrader": {
     "cell_type": "markdown",
     "checksum": "cc71e4553ff7e8b6ef698e1dc8ea660d",
     "grade": false,
     "grade_id": "cell-fd695e2ab164fac4",
     "locked": true,
     "schema_version": 3,
     "solution": false,
     "task": false
    }
   },
   "source": [
    "## Checkpoint\n",
    "\n",
    "This is just a check-point, i.e. it is for you to see that you are correctly implementing all functions.\n",
    "\n",
    "Execute the following code (just execute the next cell):\n",
    "```\n",
    "df = load_data()\n",
    "s_conditions = load_conditions()\n",
    "insert_conditions(df, s_conditions, reference_column='Reason for absence', new_column_name='Reason', position=0)\n",
    "col_list = ['Reason','Distance from Residence to Work', 'Service time', 'Age', 'Work load Average/day ', 'Hit target', \n",
    "            'Education', 'Son', 'Social drinker', 'Pet', 'Body mass index']\n",
    "df2 = remove(df, selected_col='Reason', n_min=10, col_list=col_list)\n",
    "reasons = df2['Reason'].unique()\n",
    "selected_reasons = [r for r in reasons if r != 'Physiotherapy']\n",
    "\n",
    "r1 = reasons[2]\n",
    "r2 = reasons[11]\n",
    "X1 = select_data(df2, selected_col='Reason', selected_reason=r1)\n",
    "X2 = select_data(df2, selected_col='Reason', selected_reason=r2)\n",
    "\n",
    "n = len(X1)+len(X2)\n",
    "m = n//2\n",
    "X_train, y_train, X_test, y_test = make_train_test_split(X1, X2, train_size=m)\n",
    "acc = knn_predictive_performance(X_train, y_train, X_test, y_test, k=3, pairwise_distances_func=pairwise_distances)\n",
    "bacc = baseline_acc(y_test)\n",
    "print(acc, bacc)\n",
    "```\n",
    "you should get an accuracy value that is larger than the baseline accuracy (most of the times)"
   ]
  },
  {
   "cell_type": "code",
   "execution_count": 38,
   "metadata": {
    "deletable": false,
    "editable": false,
    "nbgrader": {
     "cell_type": "code",
     "checksum": "3b33a58dc90249b52ae2ad517de44c15",
     "grade": false,
     "grade_id": "cell-c8fc9aa443d05b5f",
     "locked": true,
     "schema_version": 3,
     "solution": false,
     "task": false
    }
   },
   "outputs": [
    {
     "name": "stdout",
     "output_type": "stream",
     "text": [
      "1.0 0.4904214559386973\n"
     ]
    }
   ],
   "source": [
    "# Just run the following code, do not modify it\n",
    "\n",
    "df = load_data()\n",
    "s_conditions = load_conditions()\n",
    "insert_conditions(df, s_conditions, reference_column='Reason for absence', new_column_name='Reason', position=0)\n",
    "col_list = ['Reason','Distance from Residence to Work', 'Service time', 'Age', 'Work load Average/day ', 'Hit target', \n",
    "            'Education', 'Son', 'Social drinker', 'Pet', 'Body mass index']\n",
    "df2 = remove(df, selected_col='Reason', n_min=10, col_list=col_list)\n",
    "reasons = df2['Reason'].unique()\n",
    "selected_reasons = [r for r in reasons if r != 'Physiotherapy']\n",
    "\n",
    "r1 = reasons[2]\n",
    "r2 = reasons[11]\n",
    "X1 = select_data(df2, selected_col='Reason', selected_reason=r1)\n",
    "X2 = select_data(df2, selected_col='Reason', selected_reason=r2)\n",
    "\n",
    "n = len(X1)+len(X2)\n",
    "m = n//2\n",
    "X_train, y_train, X_test, y_test = make_train_test_split(X1, X2, train_size=m)\n",
    "acc = knn_predictive_performance(X_train, y_train, X_test, y_test, k=3, pairwise_distances_func=pairwise_distances)\n",
    "bacc = baseline_acc(y_test)\n",
    "print(acc, bacc)"
   ]
  },
  {
   "cell_type": "markdown",
   "metadata": {
    "deletable": false,
    "editable": false,
    "nbgrader": {
     "cell_type": "markdown",
     "checksum": "f5a60e0c0d00f40129c93fa759934640",
     "grade": false,
     "grade_id": "cell-f274cb7df4e812e5",
     "locked": true,
     "schema_version": 3,
     "solution": false,
     "task": false
    }
   },
   "source": [
    "# Part 3\n",
    "\n",
    "**Aim:** Show competence in using the `pandas` library when managing time series.\n",
    "\n",
    "In this exercise you are asked to retrieve real world financial data and perform a series of manipulations on the resulting time series. \n",
    "\n",
    "You will consider two signals: the Dow Jones and the Nasdaq:\n",
    "- The Dow Jones Industrial Average is a stock market index that measures the stock performance of 30 large companies listed on stock exchanges in the United States\n",
    "- The NASDAQ-100 is a stock market index made up of 103 equity securities issued by 100 of the largest non-financial companies listed on the Nasdaq stock market\n",
    "\n",
    "To work on these exercises you need to install the additional library `pandas_datareader` (e.g. by doing `pip install pandas_datareader`). \n",
    "\n",
    "Make sure each function that you create operates on a copy of the input dataframe and not on the dataframe itself."
   ]
  },
  {
   "cell_type": "markdown",
   "metadata": {
    "deletable": false,
    "editable": false,
    "nbgrader": {
     "cell_type": "markdown",
     "checksum": "2020b5208573a2094321ea41d6208843",
     "grade": false,
     "grade_id": "cell-208ac1c815879a2c",
     "locked": true,
     "schema_version": 3,
     "solution": false,
     "task": false
    }
   },
   "source": [
    "## Question 3.1 (3 marks)\n",
    "\n",
    "Make a function `make_data()` that returns a single data frame containing the signals for both the Dow Jones (symbol `DJIA`) and the Nasdaq (symbol `NASDAQ100`), for a period starting in 2001 until the first of August 2020.\n",
    "\n",
    "You should obtain a data frame that once plotted should look like this:\n",
    "\n",
    "<img src=\"data.png\" width=400>"
   ]
  },
  {
   "cell_type": "code",
   "execution_count": 30,
   "metadata": {
    "deletable": false,
    "nbgrader": {
     "cell_type": "code",
     "checksum": "fb63a5bdccc12d28805a94555a4d4a0f",
     "grade": false,
     "grade_id": "cell-d5b5fc103084659b",
     "locked": false,
     "schema_version": 3,
     "solution": true,
     "task": false
    }
   },
   "outputs": [],
   "source": [
    "import pandas_datareader as pdr\n",
    "\n",
    "def make_data():\n",
    "    import datetime\n",
    "    start = datetime.datetime(2001, 1, 1)\n",
    "    end = datetime.datetime(2020, 8, 1)\n",
    "    return pdr.data.DataReader(['DJIA','NASDAQ100'], 'fred', start, end)\n"
   ]
  },
  {
   "cell_type": "code",
   "execution_count": 31,
   "metadata": {
    "deletable": false,
    "editable": false,
    "nbgrader": {
     "cell_type": "code",
     "checksum": "359491c4613db2a5ae1780c88caf604f",
     "grade": true,
     "grade_id": "cell-f8bf975e2a2fe897",
     "locked": true,
     "points": 3,
     "schema_version": 3,
     "solution": false,
     "task": false
    }
   },
   "outputs": [],
   "source": [
    "# This cell is reserved for the unit tests. Do not consider this cell. "
   ]
  },
  {
   "cell_type": "markdown",
   "metadata": {
    "deletable": false,
    "editable": false,
    "nbgrader": {
     "cell_type": "markdown",
     "checksum": "35f7df9305a4210d644465b6001928ee",
     "grade": false,
     "grade_id": "cell-087a49ef70b0512e",
     "locked": true,
     "schema_version": 3,
     "solution": false,
     "task": false
    }
   },
   "source": [
    "## Question 3.2 (4 marks)\n",
    "\n",
    "Make a function `remove_missing(df)` that returns a copy of the input data frame where any record from the input data frame `df` that contains at least one missing value is removed."
   ]
  },
  {
   "cell_type": "code",
   "execution_count": 32,
   "metadata": {
    "deletable": false,
    "nbgrader": {
     "cell_type": "code",
     "checksum": "7b9e76f2881f278dcf6b06f2b15a83ef",
     "grade": false,
     "grade_id": "cell-63fa4bfa65a4cf4b",
     "locked": false,
     "schema_version": 3,
     "solution": true,
     "task": false
    }
   },
   "outputs": [],
   "source": [
    "\n",
    "def remove_missing(df):\n",
    "    df2 = pd.DataFrame([],columns=df.columns)\n",
    "    \n",
    "    for row, index in zip(df.values,df.index):\n",
    "        if 'nan' not in str(row):\n",
    "            df2.loc[index] = row\n",
    "\n",
    "    return df2"
   ]
  },
  {
   "cell_type": "code",
   "execution_count": 33,
   "metadata": {
    "deletable": false,
    "editable": false,
    "nbgrader": {
     "cell_type": "code",
     "checksum": "baf17a6e29d5ed79b7ee1130f499a8be",
     "grade": true,
     "grade_id": "cell-5d1bd0bd423fe3f4",
     "locked": true,
     "points": 4,
     "schema_version": 3,
     "solution": false,
     "task": false
    }
   },
   "outputs": [],
   "source": [
    "# This cell is reserved for the unit tests. Do not consider this cell. "
   ]
  },
  {
   "cell_type": "markdown",
   "metadata": {
    "deletable": false,
    "editable": false,
    "nbgrader": {
     "cell_type": "markdown",
     "checksum": "20a4a19a267a40c9f25b6353f1eb8c88",
     "grade": false,
     "grade_id": "cell-d138eb2e0319c51b",
     "locked": true,
     "schema_version": 3,
     "solution": false,
     "task": false
    }
   },
   "source": [
    "## Checkpoint\n",
    "\n",
    "This is just a check-point, i.e. it is for you to see that you are correctly implementing all functions.\n",
    "\n",
    "When executing the following code:\n",
    "```\n",
    "print(remove_missing(make_data()))\n",
    "\n",
    "```\n",
    "you should get an output like the following:\n",
    "\n",
    "```\n",
    "                DJIA  NASDAQ100\n",
    "DATE                           \n",
    "2011-10-31  11955.01   2360.080\n",
    "2011-11-01  11657.96   2298.370\n",
    "2011-11-02  11836.04   2318.320\n",
    "2011-11-03  12044.47   2367.710\n",
    "2011-11-04  11983.24   2356.320\n",
    "...              ...        ...\n",
    "2020-07-27  26584.77  10674.375\n",
    "2020-07-28  26379.28  10532.500\n",
    "2020-07-29  26539.57  10662.984\n",
    "2020-07-30  26313.65  10715.508\n",
    "2020-07-31  26428.32  10905.883\n",
    "\n",
    "[2202 rows x 2 columns]\n",
    "```"
   ]
  },
  {
   "cell_type": "markdown",
   "metadata": {
    "deletable": false,
    "editable": false,
    "nbgrader": {
     "cell_type": "markdown",
     "checksum": "6c636a05ef98f2415588d9078465693b",
     "grade": false,
     "grade_id": "cell-9bcf410c49f145ae",
     "locked": true,
     "schema_version": 3,
     "solution": false,
     "task": false
    }
   },
   "source": [
    "## Question 3.3 (6 marks)\n",
    "\n",
    "Make a function `make_coarser(df)` that returns a copy of the input data frame containing the average of values in seven day intervals."
   ]
  },
  {
   "cell_type": "code",
   "execution_count": 4,
   "metadata": {
    "deletable": false,
    "nbgrader": {
     "cell_type": "code",
     "checksum": "95ee97106ad9f47e61d8cd2203f34b16",
     "grade": false,
     "grade_id": "cell-1b7c9c19919c88fc",
     "locked": false,
     "schema_version": 3,
     "solution": true,
     "task": false
    }
   },
   "outputs": [],
   "source": [
    "def make_coarser(df):\n",
    "    import datetime\n",
    "    \n",
    "    df2 = pd.DataFrame([],columns=df.columns)\n",
    "    days = 1\n",
    "    sum = []\n",
    "    date = ''\n",
    "\n",
    "    for row, index in zip(df.values,df.index):\n",
    "        if date == '':\n",
    "            date = index + datetime.timedelta(days=7)\n",
    "            sum = row\n",
    "        elif index < date:\n",
    "            sum = sum + row \n",
    "            days += 1\n",
    "        else:\n",
    "            df2.loc[date] = sum/days\n",
    "            days = 1\n",
    "            sum = row\n",
    "            date = index + datetime.timedelta(days=7)\n",
    "        \n",
    "    return df2"
   ]
  },
  {
   "cell_type": "code",
   "execution_count": null,
   "metadata": {
    "deletable": false,
    "editable": false,
    "nbgrader": {
     "cell_type": "code",
     "checksum": "1c65c7dc2236bf0cf9145ab6f743fee0",
     "grade": true,
     "grade_id": "cell-d0a030d351633cf8",
     "locked": true,
     "points": 6,
     "schema_version": 3,
     "solution": false,
     "task": false
    }
   },
   "outputs": [],
   "source": [
    "# This cell is reserved for the unit tests. Do not consider this cell. "
   ]
  },
  {
   "cell_type": "markdown",
   "metadata": {
    "deletable": false,
    "editable": false,
    "nbgrader": {
     "cell_type": "markdown",
     "checksum": "a5acd6a99db8f8bf279fc7f5a013dc62",
     "grade": false,
     "grade_id": "cell-bd1b13c14eff989c",
     "locked": true,
     "schema_version": 3,
     "solution": false,
     "task": false
    }
   },
   "source": [
    "## Question 3.4 (5 marks)\n",
    "\n",
    "Make a function `adjust(df)` that on a copy of the input dataframe standardizes and offsets the signals in the data frame `df` as follows: \n",
    "- The standardization transformation needs to change the data to have a mean of zero and a standard deviation of 1. \n",
    "- The offset needs to add a single constant value to the data so that the minimum value in any of the columns of the data frame will be 1."
   ]
  },
  {
   "cell_type": "code",
   "execution_count": 5,
   "metadata": {
    "deletable": false,
    "nbgrader": {
     "cell_type": "code",
     "checksum": "9689683a58afb4e9ab5443f9dcae3207",
     "grade": false,
     "grade_id": "cell-5a58b389e49b4629",
     "locked": false,
     "schema_version": 3,
     "solution": true,
     "task": false
    }
   },
   "outputs": [],
   "source": [
    "def adjust(df):\n",
    "    df2 = df\n",
    "    for c in df.columns:\n",
    "        v1 = df[c].values\n",
    "        mean = sum(v1)/len(v1)\n",
    "        v2 = v1 - mean \n",
    "        sigma = (sum([v**2 for v in v2])/(len(v2)-1))**(1/2)\n",
    "        v2 /= sigma\n",
    "        \n",
    "        df2[c] = v2 - (min(v2)) +1  \n",
    "    return df2"
   ]
  },
  {
   "cell_type": "code",
   "execution_count": null,
   "metadata": {
    "deletable": false,
    "editable": false,
    "nbgrader": {
     "cell_type": "code",
     "checksum": "6d4a2d0fba64a396fb8bf66cff749d91",
     "grade": true,
     "grade_id": "cell-19a9603267e2baa5",
     "locked": true,
     "points": 5,
     "schema_version": 3,
     "solution": false,
     "task": false
    }
   },
   "outputs": [],
   "source": [
    "# This cell is reserved for the unit tests. Do not consider this cell. "
   ]
  },
  {
   "cell_type": "markdown",
   "metadata": {
    "deletable": false,
    "editable": false,
    "nbgrader": {
     "cell_type": "markdown",
     "checksum": "0b855acb70d60046fee0da382f71b106",
     "grade": false,
     "grade_id": "cell-602697cd6c42019a",
     "locked": true,
     "schema_version": 3,
     "solution": false,
     "task": false
    }
   },
   "source": [
    "## Checkpoint\n",
    "\n",
    "This is just a check-point, i.e. it is for you to see that you are correctly implementing all functions.\n",
    "\n",
    "When executing the following code:\n",
    "```\n",
    "print(adjust(make_coarser(remove_missing(make_data()))))\n",
    "\n",
    "```\n",
    "you should get an output like the following:\n",
    "\n",
    "```\n",
    "                DJIA  NASDAQ100\n",
    "DATE                           \n",
    "2011-10-31  1.106806   1.311997\n",
    "2011-11-07  1.131396   1.317184\n",
    "2011-11-14  1.113925   1.297804\n",
    "2011-11-21  1.000000   1.235515\n",
    "2011-11-28  1.093768   1.276349\n",
    "...              ...        ...\n",
    "2020-06-29  3.991191   5.209501\n",
    "2020-07-06  4.045853   5.454119\n",
    "2020-07-13  4.169969   5.442135\n",
    "2020-07-20  4.196805   5.487301\n",
    "2020-07-27  4.138326   5.464608\n",
    "\n",
    "[457 rows x 2 columns]\n",
    "```"
   ]
  },
  {
   "cell_type": "markdown",
   "metadata": {
    "deletable": false,
    "editable": false,
    "nbgrader": {
     "cell_type": "markdown",
     "checksum": "3e0b590ae3af458d8f90167da5a23d31",
     "grade": false,
     "grade_id": "cell-045df101d3f6ca8b",
     "locked": true,
     "schema_version": 3,
     "solution": false,
     "task": false
    }
   },
   "source": [
    "## Question 3.5 (5 marks)\n",
    "\n",
    "Make a function `smooth_ratio(df, col1, col2, window, std)` that takes in input a dataframe `df`, the label of two of its columns, a `window` parameter and a `std` parameter, and does not change the input dataframe. \n",
    "\n",
    "The function should smooth the time series values using a moving window average. The window should be centered and have a width expressed by the `window` parameter. The average should be weighted using a Gaussian weighting scheme with standard deviation expressed by the `std` parameter.\n",
    "\n",
    "Once the moving average has been computed for all columns in `df`, the function should return a Series containing the ratio between the smoothed values in `col1` over the smoothed values in `col2`.\n",
    "\n",
    "For example, this function could be used as follows:\n",
    "\n",
    "```\n",
    "df = adjust(make_coarser(remove_missing(make_data())))\n",
    "smooth_ratio(df, 'DJIA', 'NASDAQ100', window=4, std=2)\n",
    "```"
   ]
  },
  {
   "cell_type": "code",
   "execution_count": 43,
   "metadata": {
    "deletable": false,
    "nbgrader": {
     "cell_type": "code",
     "checksum": "35cb708ae556dcab1c69c47898a6b0c2",
     "grade": false,
     "grade_id": "cell-1ecdc10a39247e2b",
     "locked": false,
     "schema_version": 3,
     "solution": true,
     "task": false
    }
   },
   "outputs": [],
   "source": [
    "def smooth_ratio(df, col1, col2, window, std):\n",
    "    \n",
    "    \n",
    "    df2 = df.rolling(window=window, center=True, win_type='gaussian').mean(std=std)\n",
    "   \n",
    "    return df2[col1]/df2[col2] \n"
   ]
  },
  {
   "cell_type": "code",
   "execution_count": null,
   "metadata": {
    "deletable": false,
    "editable": false,
    "nbgrader": {
     "cell_type": "code",
     "checksum": "e9153ee265dbd9c241301cc825f38823",
     "grade": true,
     "grade_id": "cell-d4fb4795b6e65779",
     "locked": true,
     "points": 5,
     "schema_version": 3,
     "solution": false,
     "task": false
    }
   },
   "outputs": [],
   "source": [
    "# This cell is reserved for the unit tests. Do not consider this cell. "
   ]
  }
 ],
 "metadata": {
  "kernelspec": {
   "display_name": "Python 3",
   "language": "python",
   "name": "python3"
  },
  "language_info": {
   "codemirror_mode": {
    "name": "ipython",
    "version": 3
   },
   "file_extension": ".py",
   "mimetype": "text/x-python",
   "name": "python",
   "nbconvert_exporter": "python",
   "pygments_lexer": "ipython3",
   "version": "3.8.8"
  }
 },
 "nbformat": 4,
 "nbformat_minor": 4
}
